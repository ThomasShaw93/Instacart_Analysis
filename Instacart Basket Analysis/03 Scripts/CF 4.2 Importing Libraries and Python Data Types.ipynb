{
 "cells": [
  {
   "cell_type": "markdown",
   "id": "7a9ed48e",
   "metadata": {},
   "source": [
    "# Table of Contents\n",
    "- Import libraries\n",
    "\n",
    "- Data Types"
   ]
  },
  {
   "cell_type": "markdown",
   "id": "f5d484a4",
   "metadata": {},
   "source": [
    "# 01. Importing Libraries"
   ]
  },
  {
   "cell_type": "code",
   "execution_count": 4,
   "id": "33eecd1b",
   "metadata": {},
   "outputs": [],
   "source": [
    "# Import libraries\n",
    "import pandas as pd\n",
    "import numpy as np\n",
    "import os"
   ]
  },
  {
   "cell_type": "markdown",
   "id": "e32d232b",
   "metadata": {},
   "source": [
    "# 02. Data Types"
   ]
  },
  {
   "cell_type": "code",
   "execution_count": 30,
   "id": "48750f5a",
   "metadata": {},
   "outputs": [],
   "source": [
    "# 1 - Adding to get 100 \n",
    "x = (1 + 99)"
   ]
  },
  {
   "cell_type": "code",
   "execution_count": 31,
   "id": "a92c18b9",
   "metadata": {},
   "outputs": [
    {
     "name": "stdout",
     "output_type": "stream",
     "text": [
      "100\n"
     ]
    }
   ],
   "source": [
    "print(x)"
   ]
  },
  {
   "cell_type": "code",
   "execution_count": 32,
   "id": "c81371e7",
   "metadata": {},
   "outputs": [],
   "source": [
    "# 2 - Subtracting to get 100\n",
    "y = (141 - 41)"
   ]
  },
  {
   "cell_type": "code",
   "execution_count": 33,
   "id": "2392bcc8",
   "metadata": {},
   "outputs": [
    {
     "name": "stdout",
     "output_type": "stream",
     "text": [
      "100\n"
     ]
    }
   ],
   "source": [
    "print(y)"
   ]
  },
  {
   "cell_type": "code",
   "execution_count": 34,
   "id": "7827ab6b",
   "metadata": {},
   "outputs": [
    {
     "data": {
      "text/plain": [
       "100"
      ]
     },
     "execution_count": 34,
     "metadata": {},
     "output_type": "execute_result"
    }
   ],
   "source": [
    "# 3 - Adding and Subtracting to get 100\n",
    "y + (x-y)"
   ]
  },
  {
   "cell_type": "code",
   "execution_count": 35,
   "id": "4a115600",
   "metadata": {},
   "outputs": [],
   "source": [
    "# Floating-point Variable 1\n",
    "a = 6.789"
   ]
  },
  {
   "cell_type": "code",
   "execution_count": 37,
   "id": "eceaa6c4",
   "metadata": {},
   "outputs": [],
   "source": [
    "# Floating-point Variable 2\n",
    "b = 2.345"
   ]
  },
  {
   "cell_type": "code",
   "execution_count": 38,
   "id": "125a3a78",
   "metadata": {},
   "outputs": [
    {
     "data": {
      "text/plain": [
       "2.895095948827292"
      ]
     },
     "execution_count": 38,
     "metadata": {},
     "output_type": "execute_result"
    }
   ],
   "source": [
    "# Dividing Variable 1 by Variable 2\n",
    "a / b"
   ]
  },
  {
   "cell_type": "code",
   "execution_count": 39,
   "id": "2ef01bf5",
   "metadata": {},
   "outputs": [],
   "source": [
    "# String 1\n",
    "c = 'foot'"
   ]
  },
  {
   "cell_type": "code",
   "execution_count": 40,
   "id": "41da3701",
   "metadata": {},
   "outputs": [],
   "source": [
    "# String 2\n",
    "d = 'ball'"
   ]
  },
  {
   "cell_type": "code",
   "execution_count": 41,
   "id": "80608422",
   "metadata": {},
   "outputs": [
    {
     "data": {
      "text/plain": [
       "'football'"
      ]
     },
     "execution_count": 41,
     "metadata": {},
     "output_type": "execute_result"
    }
   ],
   "source": [
    "# Adding strings together to make a word\n",
    "c + d"
   ]
  },
  {
   "cell_type": "code",
   "execution_count": 47,
   "id": "e8780c6c",
   "metadata": {},
   "outputs": [],
   "source": [
    "e = ' is '"
   ]
  },
  {
   "cell_type": "code",
   "execution_count": 43,
   "id": "3e64760a",
   "metadata": {},
   "outputs": [],
   "source": [
    "f = 'great'"
   ]
  },
  {
   "cell_type": "code",
   "execution_count": 48,
   "id": "8d708d3f",
   "metadata": {},
   "outputs": [
    {
     "data": {
      "text/plain": [
       "'football is great'"
      ]
     },
     "execution_count": 48,
     "metadata": {},
     "output_type": "execute_result"
    }
   ],
   "source": [
    "# Addings strings together to make a sentence\n",
    "c + d + e + f"
   ]
  },
  {
   "cell_type": "code",
   "execution_count": 49,
   "id": "a1ea1cbe",
   "metadata": {},
   "outputs": [],
   "source": [
    "g = 'Hello, my'"
   ]
  },
  {
   "cell_type": "code",
   "execution_count": 50,
   "id": "ac72794d",
   "metadata": {},
   "outputs": [],
   "source": [
    "h = ' name'"
   ]
  },
  {
   "cell_type": "code",
   "execution_count": 51,
   "id": "41a84838",
   "metadata": {},
   "outputs": [],
   "source": [
    "i = 'Tom'"
   ]
  },
  {
   "cell_type": "code",
   "execution_count": 52,
   "id": "5562ea97",
   "metadata": {},
   "outputs": [
    {
     "data": {
      "text/plain": [
       "'Hello, my name is Tom'"
      ]
     },
     "execution_count": 52,
     "metadata": {},
     "output_type": "execute_result"
    }
   ],
   "source": [
    "g + h + e + i"
   ]
  },
  {
   "cell_type": "code",
   "execution_count": 53,
   "id": "61c3dd87",
   "metadata": {},
   "outputs": [
    {
     "data": {
      "text/plain": [
       "'footballfootballfootballfootballfootballfootballfootballfootballfootballfootballfootballfootballfootballfootballfootballfootballfootballfootballfootballfootballfootballfootballfootballfootballfootballfootballfootballfootballfootballfootballfootballfootballfootballfootballfootballfootballfootballfootballfootballfootballfootballfootballfootballfootballfootballfootballfootballfootballfootballfootballfootballfootballfootballfootballfootballfootballfootballfootballfootballfootballfootballfootballfootballfootballfootballfootballfootballfootballfootballfootballfootballfootballfootballfootballfootballfootballfootballfootballfootballfootballfootballfootballfootballfootballfootballfootballfootballfootballfootballfootballfootballfootballfootballfootballfootballfootballfootballfootballfootballfootball'"
      ]
     },
     "execution_count": 53,
     "metadata": {},
     "output_type": "execute_result"
    }
   ],
   "source": [
    "# Making string appear 100 times\n",
    "(c + d)* 100"
   ]
  }
 ],
 "metadata": {
  "kernelspec": {
   "display_name": "Python 3 (ipykernel)",
   "language": "python",
   "name": "python3"
  },
  "language_info": {
   "codemirror_mode": {
    "name": "ipython",
    "version": 3
   },
   "file_extension": ".py",
   "mimetype": "text/x-python",
   "name": "python",
   "nbconvert_exporter": "python",
   "pygments_lexer": "ipython3",
   "version": "3.9.12"
  }
 },
 "nbformat": 4,
 "nbformat_minor": 5
}
